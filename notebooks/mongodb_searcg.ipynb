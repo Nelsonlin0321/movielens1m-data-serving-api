{
 "cells": [
  {
   "cell_type": "code",
   "execution_count": 1,
   "metadata": {},
   "outputs": [],
   "source": [
    "import os\n",
    "import pymongo\n",
    "import dotenv"
   ]
  },
  {
   "cell_type": "code",
   "execution_count": 2,
   "metadata": {},
   "outputs": [],
   "source": [
    "from pymongo import MongoClient"
   ]
  },
  {
   "cell_type": "code",
   "execution_count": 3,
   "metadata": {},
   "outputs": [
    {
     "data": {
      "text/plain": [
       "True"
      ]
     },
     "execution_count": 3,
     "metadata": {},
     "output_type": "execute_result"
    }
   ],
   "source": [
    "dotenv.load_dotenv(\"./../docker.env\")"
   ]
  },
  {
   "cell_type": "code",
   "execution_count": 4,
   "metadata": {},
   "outputs": [],
   "source": [
    "MONGODB_URL = os.getenv(\"MONGODB_URL\")"
   ]
  },
  {
   "cell_type": "code",
   "execution_count": 5,
   "metadata": {},
   "outputs": [],
   "source": [
    "client = MongoClient(MONGODB_URL)"
   ]
  },
  {
   "cell_type": "code",
   "execution_count": 6,
   "metadata": {},
   "outputs": [
    {
     "ename": "OperationFailure",
     "evalue": "\"text.query\" cannot be empty, full error: {'ok': 0.0, 'errmsg': '\"text.query\" cannot be empty', 'code': 8, 'codeName': 'UnknownError', '$clusterTime': {'clusterTime': Timestamp(1699030878, 9), 'signature': {'hash': b'\\xb1\\xca\\xf7}\\x03\\xb0\\xc0\\x95\\xa6\\x85\\xca\\xc1p\\xf4\\xc9\\x86\\xce\\xb6\\x857', 'keyId': 7237105488163241990}}, 'operationTime': Timestamp(1699030878, 9)}",
     "output_type": "error",
     "traceback": [
      "\u001b[0;31m---------------------------------------------------------------------------\u001b[0m",
      "\u001b[0;31mOperationFailure\u001b[0m                          Traceback (most recent call last)",
      "\u001b[1;32m/Users/nelsonlin/Desktop/WorkSpace/movielens1m-data-serving-api/notebooks/mongodb_searcg.ipynb Cell 6\u001b[0m line \u001b[0;36m1\n\u001b[0;32m----> <a href='vscode-notebook-cell:/Users/nelsonlin/Desktop/WorkSpace/movielens1m-data-serving-api/notebooks/mongodb_searcg.ipynb#W5sZmlsZQ%3D%3D?line=0'>1</a>\u001b[0m result \u001b[39m=\u001b[39m client[\u001b[39m\"\u001b[39;49m\u001b[39mmovielens1m\u001b[39;49m\u001b[39m\"\u001b[39;49m][\u001b[39m'\u001b[39;49m\u001b[39mmovie\u001b[39;49m\u001b[39m'\u001b[39;49m]\u001b[39m.\u001b[39;49maggregate([\n\u001b[1;32m      <a href='vscode-notebook-cell:/Users/nelsonlin/Desktop/WorkSpace/movielens1m-data-serving-api/notebooks/mongodb_searcg.ipynb#W5sZmlsZQ%3D%3D?line=1'>2</a>\u001b[0m \n\u001b[1;32m      <a href='vscode-notebook-cell:/Users/nelsonlin/Desktop/WorkSpace/movielens1m-data-serving-api/notebooks/mongodb_searcg.ipynb#W5sZmlsZQ%3D%3D?line=2'>3</a>\u001b[0m     {\n\u001b[1;32m      <a href='vscode-notebook-cell:/Users/nelsonlin/Desktop/WorkSpace/movielens1m-data-serving-api/notebooks/mongodb_searcg.ipynb#W5sZmlsZQ%3D%3D?line=3'>4</a>\u001b[0m \n\u001b[1;32m      <a href='vscode-notebook-cell:/Users/nelsonlin/Desktop/WorkSpace/movielens1m-data-serving-api/notebooks/mongodb_searcg.ipynb#W5sZmlsZQ%3D%3D?line=4'>5</a>\u001b[0m         \u001b[39m'\u001b[39;49m\u001b[39m$search\u001b[39;49m\u001b[39m'\u001b[39;49m: {\n\u001b[1;32m      <a href='vscode-notebook-cell:/Users/nelsonlin/Desktop/WorkSpace/movielens1m-data-serving-api/notebooks/mongodb_searcg.ipynb#W5sZmlsZQ%3D%3D?line=5'>6</a>\u001b[0m \n\u001b[1;32m      <a href='vscode-notebook-cell:/Users/nelsonlin/Desktop/WorkSpace/movielens1m-data-serving-api/notebooks/mongodb_searcg.ipynb#W5sZmlsZQ%3D%3D?line=6'>7</a>\u001b[0m             \u001b[39m'\u001b[39;49m\u001b[39mindex\u001b[39;49m\u001b[39m'\u001b[39;49m: \u001b[39m'\u001b[39;49m\u001b[39mdefault\u001b[39;49m\u001b[39m'\u001b[39;49m,\n\u001b[1;32m      <a href='vscode-notebook-cell:/Users/nelsonlin/Desktop/WorkSpace/movielens1m-data-serving-api/notebooks/mongodb_searcg.ipynb#W5sZmlsZQ%3D%3D?line=7'>8</a>\u001b[0m \n\u001b[1;32m      <a href='vscode-notebook-cell:/Users/nelsonlin/Desktop/WorkSpace/movielens1m-data-serving-api/notebooks/mongodb_searcg.ipynb#W5sZmlsZQ%3D%3D?line=8'>9</a>\u001b[0m             \u001b[39m'\u001b[39;49m\u001b[39mtext\u001b[39;49m\u001b[39m'\u001b[39;49m: {\n\u001b[1;32m     <a href='vscode-notebook-cell:/Users/nelsonlin/Desktop/WorkSpace/movielens1m-data-serving-api/notebooks/mongodb_searcg.ipynb#W5sZmlsZQ%3D%3D?line=9'>10</a>\u001b[0m \n\u001b[1;32m     <a href='vscode-notebook-cell:/Users/nelsonlin/Desktop/WorkSpace/movielens1m-data-serving-api/notebooks/mongodb_searcg.ipynb#W5sZmlsZQ%3D%3D?line=10'>11</a>\u001b[0m                 \u001b[39m'\u001b[39;49m\u001b[39mquery\u001b[39;49m\u001b[39m'\u001b[39;49m: \u001b[39m'\u001b[39;49m\u001b[39m'\u001b[39;49m,\n\u001b[1;32m     <a href='vscode-notebook-cell:/Users/nelsonlin/Desktop/WorkSpace/movielens1m-data-serving-api/notebooks/mongodb_searcg.ipynb#W5sZmlsZQ%3D%3D?line=11'>12</a>\u001b[0m \n\u001b[1;32m     <a href='vscode-notebook-cell:/Users/nelsonlin/Desktop/WorkSpace/movielens1m-data-serving-api/notebooks/mongodb_searcg.ipynb#W5sZmlsZQ%3D%3D?line=12'>13</a>\u001b[0m                 \u001b[39m'\u001b[39;49m\u001b[39mpath\u001b[39;49m\u001b[39m'\u001b[39;49m: \u001b[39m'\u001b[39;49m\u001b[39mtitle\u001b[39;49m\u001b[39m'\u001b[39;49m\n\u001b[1;32m     <a href='vscode-notebook-cell:/Users/nelsonlin/Desktop/WorkSpace/movielens1m-data-serving-api/notebooks/mongodb_searcg.ipynb#W5sZmlsZQ%3D%3D?line=13'>14</a>\u001b[0m \n\u001b[1;32m     <a href='vscode-notebook-cell:/Users/nelsonlin/Desktop/WorkSpace/movielens1m-data-serving-api/notebooks/mongodb_searcg.ipynb#W5sZmlsZQ%3D%3D?line=14'>15</a>\u001b[0m             }\n\u001b[1;32m     <a href='vscode-notebook-cell:/Users/nelsonlin/Desktop/WorkSpace/movielens1m-data-serving-api/notebooks/mongodb_searcg.ipynb#W5sZmlsZQ%3D%3D?line=15'>16</a>\u001b[0m \n\u001b[1;32m     <a href='vscode-notebook-cell:/Users/nelsonlin/Desktop/WorkSpace/movielens1m-data-serving-api/notebooks/mongodb_searcg.ipynb#W5sZmlsZQ%3D%3D?line=16'>17</a>\u001b[0m         }\n\u001b[1;32m     <a href='vscode-notebook-cell:/Users/nelsonlin/Desktop/WorkSpace/movielens1m-data-serving-api/notebooks/mongodb_searcg.ipynb#W5sZmlsZQ%3D%3D?line=17'>18</a>\u001b[0m \n\u001b[1;32m     <a href='vscode-notebook-cell:/Users/nelsonlin/Desktop/WorkSpace/movielens1m-data-serving-api/notebooks/mongodb_searcg.ipynb#W5sZmlsZQ%3D%3D?line=18'>19</a>\u001b[0m     },\n\u001b[1;32m     <a href='vscode-notebook-cell:/Users/nelsonlin/Desktop/WorkSpace/movielens1m-data-serving-api/notebooks/mongodb_searcg.ipynb#W5sZmlsZQ%3D%3D?line=19'>20</a>\u001b[0m \n\u001b[1;32m     <a href='vscode-notebook-cell:/Users/nelsonlin/Desktop/WorkSpace/movielens1m-data-serving-api/notebooks/mongodb_searcg.ipynb#W5sZmlsZQ%3D%3D?line=20'>21</a>\u001b[0m     {\n\u001b[1;32m     <a href='vscode-notebook-cell:/Users/nelsonlin/Desktop/WorkSpace/movielens1m-data-serving-api/notebooks/mongodb_searcg.ipynb#W5sZmlsZQ%3D%3D?line=21'>22</a>\u001b[0m \n\u001b[1;32m     <a href='vscode-notebook-cell:/Users/nelsonlin/Desktop/WorkSpace/movielens1m-data-serving-api/notebooks/mongodb_searcg.ipynb#W5sZmlsZQ%3D%3D?line=22'>23</a>\u001b[0m         \u001b[39m'\u001b[39;49m\u001b[39m$limit\u001b[39;49m\u001b[39m'\u001b[39;49m: \u001b[39m30\u001b[39;49m\n\u001b[1;32m     <a href='vscode-notebook-cell:/Users/nelsonlin/Desktop/WorkSpace/movielens1m-data-serving-api/notebooks/mongodb_searcg.ipynb#W5sZmlsZQ%3D%3D?line=23'>24</a>\u001b[0m \n\u001b[1;32m     <a href='vscode-notebook-cell:/Users/nelsonlin/Desktop/WorkSpace/movielens1m-data-serving-api/notebooks/mongodb_searcg.ipynb#W5sZmlsZQ%3D%3D?line=24'>25</a>\u001b[0m     },\n\u001b[1;32m     <a href='vscode-notebook-cell:/Users/nelsonlin/Desktop/WorkSpace/movielens1m-data-serving-api/notebooks/mongodb_searcg.ipynb#W5sZmlsZQ%3D%3D?line=25'>26</a>\u001b[0m \n\u001b[1;32m     <a href='vscode-notebook-cell:/Users/nelsonlin/Desktop/WorkSpace/movielens1m-data-serving-api/notebooks/mongodb_searcg.ipynb#W5sZmlsZQ%3D%3D?line=26'>27</a>\u001b[0m     {\n\u001b[1;32m     <a href='vscode-notebook-cell:/Users/nelsonlin/Desktop/WorkSpace/movielens1m-data-serving-api/notebooks/mongodb_searcg.ipynb#W5sZmlsZQ%3D%3D?line=27'>28</a>\u001b[0m \n\u001b[1;32m     <a href='vscode-notebook-cell:/Users/nelsonlin/Desktop/WorkSpace/movielens1m-data-serving-api/notebooks/mongodb_searcg.ipynb#W5sZmlsZQ%3D%3D?line=28'>29</a>\u001b[0m         \u001b[39m'\u001b[39;49m\u001b[39m$project\u001b[39;49m\u001b[39m'\u001b[39;49m: {\n\u001b[1;32m     <a href='vscode-notebook-cell:/Users/nelsonlin/Desktop/WorkSpace/movielens1m-data-serving-api/notebooks/mongodb_searcg.ipynb#W5sZmlsZQ%3D%3D?line=29'>30</a>\u001b[0m \n\u001b[1;32m     <a href='vscode-notebook-cell:/Users/nelsonlin/Desktop/WorkSpace/movielens1m-data-serving-api/notebooks/mongodb_searcg.ipynb#W5sZmlsZQ%3D%3D?line=30'>31</a>\u001b[0m             \u001b[39m'\u001b[39;49m\u001b[39m_id\u001b[39;49m\u001b[39m'\u001b[39;49m: \u001b[39m0\u001b[39;49m,\n\u001b[1;32m     <a href='vscode-notebook-cell:/Users/nelsonlin/Desktop/WorkSpace/movielens1m-data-serving-api/notebooks/mongodb_searcg.ipynb#W5sZmlsZQ%3D%3D?line=31'>32</a>\u001b[0m         }\n\u001b[1;32m     <a href='vscode-notebook-cell:/Users/nelsonlin/Desktop/WorkSpace/movielens1m-data-serving-api/notebooks/mongodb_searcg.ipynb#W5sZmlsZQ%3D%3D?line=32'>33</a>\u001b[0m \n\u001b[1;32m     <a href='vscode-notebook-cell:/Users/nelsonlin/Desktop/WorkSpace/movielens1m-data-serving-api/notebooks/mongodb_searcg.ipynb#W5sZmlsZQ%3D%3D?line=33'>34</a>\u001b[0m     }\n\u001b[1;32m     <a href='vscode-notebook-cell:/Users/nelsonlin/Desktop/WorkSpace/movielens1m-data-serving-api/notebooks/mongodb_searcg.ipynb#W5sZmlsZQ%3D%3D?line=34'>35</a>\u001b[0m \n\u001b[1;32m     <a href='vscode-notebook-cell:/Users/nelsonlin/Desktop/WorkSpace/movielens1m-data-serving-api/notebooks/mongodb_searcg.ipynb#W5sZmlsZQ%3D%3D?line=35'>36</a>\u001b[0m ])\n",
      "File \u001b[0;32m/opt/homebrew/Caskroom/miniforge/base/lib/python3.10/site-packages/pymongo/collection.py:2720\u001b[0m, in \u001b[0;36mCollection.aggregate\u001b[0;34m(self, pipeline, session, let, comment, **kwargs)\u001b[0m\n\u001b[1;32m   2642\u001b[0m \u001b[39m\u001b[39m\u001b[39m\"\"\"Perform an aggregation using the aggregation framework on this\u001b[39;00m\n\u001b[1;32m   2643\u001b[0m \u001b[39mcollection.\u001b[39;00m\n\u001b[1;32m   2644\u001b[0m \n\u001b[0;32m   (...)\u001b[0m\n\u001b[1;32m   2717\u001b[0m \u001b[39m    https://mongodb.com/docs/manual/reference/command/aggregate\u001b[39;00m\n\u001b[1;32m   2718\u001b[0m \u001b[39m\"\"\"\u001b[39;00m\n\u001b[1;32m   2719\u001b[0m \u001b[39mwith\u001b[39;00m \u001b[39mself\u001b[39m\u001b[39m.\u001b[39m__database\u001b[39m.\u001b[39mclient\u001b[39m.\u001b[39m_tmp_session(session, close\u001b[39m=\u001b[39m\u001b[39mFalse\u001b[39;00m) \u001b[39mas\u001b[39;00m s:\n\u001b[0;32m-> 2720\u001b[0m     \u001b[39mreturn\u001b[39;00m \u001b[39mself\u001b[39;49m\u001b[39m.\u001b[39;49m_aggregate(\n\u001b[1;32m   2721\u001b[0m         _CollectionAggregationCommand,\n\u001b[1;32m   2722\u001b[0m         pipeline,\n\u001b[1;32m   2723\u001b[0m         CommandCursor,\n\u001b[1;32m   2724\u001b[0m         session\u001b[39m=\u001b[39;49ms,\n\u001b[1;32m   2725\u001b[0m         explicit_session\u001b[39m=\u001b[39;49msession \u001b[39mis\u001b[39;49;00m \u001b[39mnot\u001b[39;49;00m \u001b[39mNone\u001b[39;49;00m,\n\u001b[1;32m   2726\u001b[0m         let\u001b[39m=\u001b[39;49mlet,\n\u001b[1;32m   2727\u001b[0m         comment\u001b[39m=\u001b[39;49mcomment,\n\u001b[1;32m   2728\u001b[0m         \u001b[39m*\u001b[39;49m\u001b[39m*\u001b[39;49mkwargs,\n\u001b[1;32m   2729\u001b[0m     )\n",
      "File \u001b[0;32m/opt/homebrew/Caskroom/miniforge/base/lib/python3.10/site-packages/pymongo/_csot.py:107\u001b[0m, in \u001b[0;36mapply.<locals>.csot_wrapper\u001b[0;34m(self, *args, **kwargs)\u001b[0m\n\u001b[1;32m    105\u001b[0m         \u001b[39mwith\u001b[39;00m _TimeoutContext(timeout):\n\u001b[1;32m    106\u001b[0m             \u001b[39mreturn\u001b[39;00m func(\u001b[39mself\u001b[39m, \u001b[39m*\u001b[39margs, \u001b[39m*\u001b[39m\u001b[39m*\u001b[39mkwargs)\n\u001b[0;32m--> 107\u001b[0m \u001b[39mreturn\u001b[39;00m func(\u001b[39mself\u001b[39;49m, \u001b[39m*\u001b[39;49margs, \u001b[39m*\u001b[39;49m\u001b[39m*\u001b[39;49mkwargs)\n",
      "File \u001b[0;32m/opt/homebrew/Caskroom/miniforge/base/lib/python3.10/site-packages/pymongo/collection.py:2627\u001b[0m, in \u001b[0;36mCollection._aggregate\u001b[0;34m(self, aggregation_command, pipeline, cursor_class, session, explicit_session, let, comment, **kwargs)\u001b[0m\n\u001b[1;32m   2616\u001b[0m     kwargs[\u001b[39m\"\u001b[39m\u001b[39mcomment\u001b[39m\u001b[39m\"\u001b[39m] \u001b[39m=\u001b[39m comment\n\u001b[1;32m   2617\u001b[0m cmd \u001b[39m=\u001b[39m aggregation_command(\n\u001b[1;32m   2618\u001b[0m     \u001b[39mself\u001b[39m,\n\u001b[1;32m   2619\u001b[0m     cursor_class,\n\u001b[0;32m   (...)\u001b[0m\n\u001b[1;32m   2624\u001b[0m     user_fields\u001b[39m=\u001b[39m{\u001b[39m\"\u001b[39m\u001b[39mcursor\u001b[39m\u001b[39m\"\u001b[39m: {\u001b[39m\"\u001b[39m\u001b[39mfirstBatch\u001b[39m\u001b[39m\"\u001b[39m: \u001b[39m1\u001b[39m}},\n\u001b[1;32m   2625\u001b[0m )\n\u001b[0;32m-> 2627\u001b[0m \u001b[39mreturn\u001b[39;00m \u001b[39mself\u001b[39;49m\u001b[39m.\u001b[39;49m__database\u001b[39m.\u001b[39;49mclient\u001b[39m.\u001b[39;49m_retryable_read(\n\u001b[1;32m   2628\u001b[0m     cmd\u001b[39m.\u001b[39;49mget_cursor,\n\u001b[1;32m   2629\u001b[0m     cmd\u001b[39m.\u001b[39;49mget_read_preference(session),  \u001b[39m# type: ignore[arg-type]\u001b[39;49;00m\n\u001b[1;32m   2630\u001b[0m     session,\n\u001b[1;32m   2631\u001b[0m     retryable\u001b[39m=\u001b[39;49m\u001b[39mnot\u001b[39;49;00m cmd\u001b[39m.\u001b[39;49m_performs_write,\n\u001b[1;32m   2632\u001b[0m )\n",
      "File \u001b[0;32m/opt/homebrew/Caskroom/miniforge/base/lib/python3.10/site-packages/pymongo/mongo_client.py:1492\u001b[0m, in \u001b[0;36mMongoClient._retryable_read\u001b[0;34m(self, func, read_pref, session, address, retryable)\u001b[0m\n\u001b[1;32m   1487\u001b[0m \u001b[39m# Ensure that the client supports retrying on reads and there is no session in\u001b[39;00m\n\u001b[1;32m   1488\u001b[0m \u001b[39m# transaction, otherwise, we will not support retry behavior for this call.\u001b[39;00m\n\u001b[1;32m   1489\u001b[0m retryable \u001b[39m=\u001b[39m \u001b[39mbool\u001b[39m(\n\u001b[1;32m   1490\u001b[0m     retryable \u001b[39mand\u001b[39;00m \u001b[39mself\u001b[39m\u001b[39m.\u001b[39moptions\u001b[39m.\u001b[39mretry_reads \u001b[39mand\u001b[39;00m \u001b[39mnot\u001b[39;00m (session \u001b[39mand\u001b[39;00m session\u001b[39m.\u001b[39min_transaction)\n\u001b[1;32m   1491\u001b[0m )\n\u001b[0;32m-> 1492\u001b[0m \u001b[39mreturn\u001b[39;00m \u001b[39mself\u001b[39;49m\u001b[39m.\u001b[39;49m_retry_internal(\n\u001b[1;32m   1493\u001b[0m     func,\n\u001b[1;32m   1494\u001b[0m     session,\n\u001b[1;32m   1495\u001b[0m     \u001b[39mNone\u001b[39;49;00m,\n\u001b[1;32m   1496\u001b[0m     is_read\u001b[39m=\u001b[39;49m\u001b[39mTrue\u001b[39;49;00m,\n\u001b[1;32m   1497\u001b[0m     address\u001b[39m=\u001b[39;49maddress,\n\u001b[1;32m   1498\u001b[0m     read_pref\u001b[39m=\u001b[39;49mread_pref,\n\u001b[1;32m   1499\u001b[0m     retryable\u001b[39m=\u001b[39;49mretryable,\n\u001b[1;32m   1500\u001b[0m )\n",
      "File \u001b[0;32m/opt/homebrew/Caskroom/miniforge/base/lib/python3.10/site-packages/pymongo/_csot.py:107\u001b[0m, in \u001b[0;36mapply.<locals>.csot_wrapper\u001b[0;34m(self, *args, **kwargs)\u001b[0m\n\u001b[1;32m    105\u001b[0m         \u001b[39mwith\u001b[39;00m _TimeoutContext(timeout):\n\u001b[1;32m    106\u001b[0m             \u001b[39mreturn\u001b[39;00m func(\u001b[39mself\u001b[39m, \u001b[39m*\u001b[39margs, \u001b[39m*\u001b[39m\u001b[39m*\u001b[39mkwargs)\n\u001b[0;32m--> 107\u001b[0m \u001b[39mreturn\u001b[39;00m func(\u001b[39mself\u001b[39;49m, \u001b[39m*\u001b[39;49margs, \u001b[39m*\u001b[39;49m\u001b[39m*\u001b[39;49mkwargs)\n",
      "File \u001b[0;32m/opt/homebrew/Caskroom/miniforge/base/lib/python3.10/site-packages/pymongo/mongo_client.py:1462\u001b[0m, in \u001b[0;36mMongoClient._retry_internal\u001b[0;34m(self, func, session, bulk, is_read, address, read_pref, retryable)\u001b[0m\n\u001b[1;32m   1428\u001b[0m \u001b[39m@_csot\u001b[39m\u001b[39m.\u001b[39mapply\n\u001b[1;32m   1429\u001b[0m \u001b[39mdef\u001b[39;00m \u001b[39m_retry_internal\u001b[39m(\n\u001b[1;32m   1430\u001b[0m     \u001b[39mself\u001b[39m,\n\u001b[0;32m   (...)\u001b[0m\n\u001b[1;32m   1437\u001b[0m     retryable: \u001b[39mbool\u001b[39m \u001b[39m=\u001b[39m \u001b[39mFalse\u001b[39;00m,\n\u001b[1;32m   1438\u001b[0m ) \u001b[39m-\u001b[39m\u001b[39m>\u001b[39m T:\n\u001b[1;32m   1439\u001b[0m \u001b[39m    \u001b[39m\u001b[39m\"\"\"Internal retryable helper for all client transactions.\u001b[39;00m\n\u001b[1;32m   1440\u001b[0m \n\u001b[1;32m   1441\u001b[0m \u001b[39m    :Parameters:\u001b[39;00m\n\u001b[0;32m   (...)\u001b[0m\n\u001b[1;32m   1451\u001b[0m \u001b[39m      Output of the calling func()\u001b[39;00m\n\u001b[1;32m   1452\u001b[0m \u001b[39m    \"\"\"\u001b[39;00m\n\u001b[1;32m   1453\u001b[0m     \u001b[39mreturn\u001b[39;00m _ClientConnectionRetryable(\n\u001b[1;32m   1454\u001b[0m         mongo_client\u001b[39m=\u001b[39;49m\u001b[39mself\u001b[39;49m,\n\u001b[1;32m   1455\u001b[0m         func\u001b[39m=\u001b[39;49mfunc,\n\u001b[1;32m   1456\u001b[0m         bulk\u001b[39m=\u001b[39;49mbulk,\n\u001b[1;32m   1457\u001b[0m         is_read\u001b[39m=\u001b[39;49mis_read,\n\u001b[1;32m   1458\u001b[0m         session\u001b[39m=\u001b[39;49msession,\n\u001b[1;32m   1459\u001b[0m         read_pref\u001b[39m=\u001b[39;49mread_pref,\n\u001b[1;32m   1460\u001b[0m         address\u001b[39m=\u001b[39;49maddress,\n\u001b[1;32m   1461\u001b[0m         retryable\u001b[39m=\u001b[39;49mretryable,\n\u001b[0;32m-> 1462\u001b[0m     )\u001b[39m.\u001b[39;49mrun()\n",
      "File \u001b[0;32m/opt/homebrew/Caskroom/miniforge/base/lib/python3.10/site-packages/pymongo/mongo_client.py:2315\u001b[0m, in \u001b[0;36m_ClientConnectionRetryable.run\u001b[0;34m(self)\u001b[0m\n\u001b[1;32m   2313\u001b[0m \u001b[39mself\u001b[39m\u001b[39m.\u001b[39m_check_last_error(check_csot\u001b[39m=\u001b[39m\u001b[39mTrue\u001b[39;00m)\n\u001b[1;32m   2314\u001b[0m \u001b[39mtry\u001b[39;00m:\n\u001b[0;32m-> 2315\u001b[0m     \u001b[39mreturn\u001b[39;00m \u001b[39mself\u001b[39;49m\u001b[39m.\u001b[39;49m_read() \u001b[39mif\u001b[39;00m \u001b[39mself\u001b[39m\u001b[39m.\u001b[39m_is_read \u001b[39melse\u001b[39;00m \u001b[39mself\u001b[39m\u001b[39m.\u001b[39m_write()\n\u001b[1;32m   2316\u001b[0m \u001b[39mexcept\u001b[39;00m ServerSelectionTimeoutError:\n\u001b[1;32m   2317\u001b[0m     \u001b[39m# The application may think the write was never attempted\u001b[39;00m\n\u001b[1;32m   2318\u001b[0m     \u001b[39m# if we raise ServerSelectionTimeoutError on the retry\u001b[39;00m\n\u001b[1;32m   2319\u001b[0m     \u001b[39m# attempt. Raise the original exception instead.\u001b[39;00m\n\u001b[1;32m   2320\u001b[0m     \u001b[39mself\u001b[39m\u001b[39m.\u001b[39m_check_last_error()\n",
      "File \u001b[0;32m/opt/homebrew/Caskroom/miniforge/base/lib/python3.10/site-packages/pymongo/mongo_client.py:2444\u001b[0m, in \u001b[0;36m_ClientConnectionRetryable._read\u001b[0;34m(self)\u001b[0m\n\u001b[1;32m   2442\u001b[0m \u001b[39mif\u001b[39;00m \u001b[39mself\u001b[39m\u001b[39m.\u001b[39m_retrying \u001b[39mand\u001b[39;00m \u001b[39mnot\u001b[39;00m \u001b[39mself\u001b[39m\u001b[39m.\u001b[39m_retryable:\n\u001b[1;32m   2443\u001b[0m     \u001b[39mself\u001b[39m\u001b[39m.\u001b[39m_check_last_error()\n\u001b[0;32m-> 2444\u001b[0m \u001b[39mreturn\u001b[39;00m \u001b[39mself\u001b[39;49m\u001b[39m.\u001b[39;49m_func(\u001b[39mself\u001b[39;49m\u001b[39m.\u001b[39;49m_session, \u001b[39mself\u001b[39;49m\u001b[39m.\u001b[39;49m_server, conn, read_pref)\n",
      "File \u001b[0;32m/opt/homebrew/Caskroom/miniforge/base/lib/python3.10/site-packages/pymongo/aggregation.py:164\u001b[0m, in \u001b[0;36m_AggregationCommand.get_cursor\u001b[0;34m(self, session, server, conn, read_preference)\u001b[0m\n\u001b[1;32m    161\u001b[0m     write_concern \u001b[39m=\u001b[39m \u001b[39mNone\u001b[39;00m\n\u001b[1;32m    163\u001b[0m \u001b[39m# Run command.\u001b[39;00m\n\u001b[0;32m--> 164\u001b[0m result \u001b[39m=\u001b[39m conn\u001b[39m.\u001b[39;49mcommand(\n\u001b[1;32m    165\u001b[0m     \u001b[39mself\u001b[39;49m\u001b[39m.\u001b[39;49m_database\u001b[39m.\u001b[39;49mname,\n\u001b[1;32m    166\u001b[0m     cmd,\n\u001b[1;32m    167\u001b[0m     read_preference,\n\u001b[1;32m    168\u001b[0m     \u001b[39mself\u001b[39;49m\u001b[39m.\u001b[39;49m_target\u001b[39m.\u001b[39;49mcodec_options,\n\u001b[1;32m    169\u001b[0m     parse_write_concern_error\u001b[39m=\u001b[39;49m\u001b[39mTrue\u001b[39;49;00m,\n\u001b[1;32m    170\u001b[0m     read_concern\u001b[39m=\u001b[39;49mread_concern,\n\u001b[1;32m    171\u001b[0m     write_concern\u001b[39m=\u001b[39;49mwrite_concern,\n\u001b[1;32m    172\u001b[0m     collation\u001b[39m=\u001b[39;49m\u001b[39mself\u001b[39;49m\u001b[39m.\u001b[39;49m_collation,\n\u001b[1;32m    173\u001b[0m     session\u001b[39m=\u001b[39;49msession,\n\u001b[1;32m    174\u001b[0m     client\u001b[39m=\u001b[39;49m\u001b[39mself\u001b[39;49m\u001b[39m.\u001b[39;49m_database\u001b[39m.\u001b[39;49mclient,\n\u001b[1;32m    175\u001b[0m     user_fields\u001b[39m=\u001b[39;49m\u001b[39mself\u001b[39;49m\u001b[39m.\u001b[39;49m_user_fields,\n\u001b[1;32m    176\u001b[0m )\n\u001b[1;32m    178\u001b[0m \u001b[39mif\u001b[39;00m \u001b[39mself\u001b[39m\u001b[39m.\u001b[39m_result_processor:\n\u001b[1;32m    179\u001b[0m     \u001b[39mself\u001b[39m\u001b[39m.\u001b[39m_result_processor(result, conn)\n",
      "File \u001b[0;32m/opt/homebrew/Caskroom/miniforge/base/lib/python3.10/site-packages/pymongo/helpers.py:322\u001b[0m, in \u001b[0;36m_handle_reauth.<locals>.inner\u001b[0;34m(*args, **kwargs)\u001b[0m\n\u001b[1;32m    319\u001b[0m \u001b[39mfrom\u001b[39;00m \u001b[39mpymongo\u001b[39;00m\u001b[39m.\u001b[39;00m\u001b[39mpool\u001b[39;00m \u001b[39mimport\u001b[39;00m Connection\n\u001b[1;32m    321\u001b[0m \u001b[39mtry\u001b[39;00m:\n\u001b[0;32m--> 322\u001b[0m     \u001b[39mreturn\u001b[39;00m func(\u001b[39m*\u001b[39;49margs, \u001b[39m*\u001b[39;49m\u001b[39m*\u001b[39;49mkwargs)\n\u001b[1;32m    323\u001b[0m \u001b[39mexcept\u001b[39;00m OperationFailure \u001b[39mas\u001b[39;00m exc:\n\u001b[1;32m    324\u001b[0m     \u001b[39mif\u001b[39;00m no_reauth:\n",
      "File \u001b[0;32m/opt/homebrew/Caskroom/miniforge/base/lib/python3.10/site-packages/pymongo/pool.py:968\u001b[0m, in \u001b[0;36mConnection.command\u001b[0;34m(self, dbname, spec, read_preference, codec_options, check, allowable_errors, read_concern, write_concern, parse_write_concern_error, collation, session, client, retryable_write, publish_events, user_fields, exhaust_allowed)\u001b[0m\n\u001b[1;32m    966\u001b[0m     \u001b[39mself\u001b[39m\u001b[39m.\u001b[39m_raise_if_not_writable(unacknowledged)\n\u001b[1;32m    967\u001b[0m \u001b[39mtry\u001b[39;00m:\n\u001b[0;32m--> 968\u001b[0m     \u001b[39mreturn\u001b[39;00m command(\n\u001b[1;32m    969\u001b[0m         \u001b[39mself\u001b[39;49m,\n\u001b[1;32m    970\u001b[0m         dbname,\n\u001b[1;32m    971\u001b[0m         spec,\n\u001b[1;32m    972\u001b[0m         \u001b[39mself\u001b[39;49m\u001b[39m.\u001b[39;49mis_mongos,\n\u001b[1;32m    973\u001b[0m         read_preference,\n\u001b[1;32m    974\u001b[0m         codec_options,\n\u001b[1;32m    975\u001b[0m         session,\n\u001b[1;32m    976\u001b[0m         client,\n\u001b[1;32m    977\u001b[0m         check,\n\u001b[1;32m    978\u001b[0m         allowable_errors,\n\u001b[1;32m    979\u001b[0m         \u001b[39mself\u001b[39;49m\u001b[39m.\u001b[39;49maddress,\n\u001b[1;32m    980\u001b[0m         listeners,\n\u001b[1;32m    981\u001b[0m         \u001b[39mself\u001b[39;49m\u001b[39m.\u001b[39;49mmax_bson_size,\n\u001b[1;32m    982\u001b[0m         read_concern,\n\u001b[1;32m    983\u001b[0m         parse_write_concern_error\u001b[39m=\u001b[39;49mparse_write_concern_error,\n\u001b[1;32m    984\u001b[0m         collation\u001b[39m=\u001b[39;49mcollation,\n\u001b[1;32m    985\u001b[0m         compression_ctx\u001b[39m=\u001b[39;49m\u001b[39mself\u001b[39;49m\u001b[39m.\u001b[39;49mcompression_context,\n\u001b[1;32m    986\u001b[0m         use_op_msg\u001b[39m=\u001b[39;49m\u001b[39mself\u001b[39;49m\u001b[39m.\u001b[39;49mop_msg_enabled,\n\u001b[1;32m    987\u001b[0m         unacknowledged\u001b[39m=\u001b[39;49munacknowledged,\n\u001b[1;32m    988\u001b[0m         user_fields\u001b[39m=\u001b[39;49muser_fields,\n\u001b[1;32m    989\u001b[0m         exhaust_allowed\u001b[39m=\u001b[39;49mexhaust_allowed,\n\u001b[1;32m    990\u001b[0m         write_concern\u001b[39m=\u001b[39;49mwrite_concern,\n\u001b[1;32m    991\u001b[0m     )\n\u001b[1;32m    992\u001b[0m \u001b[39mexcept\u001b[39;00m (OperationFailure, NotPrimaryError):\n\u001b[1;32m    993\u001b[0m     \u001b[39mraise\u001b[39;00m\n",
      "File \u001b[0;32m/opt/homebrew/Caskroom/miniforge/base/lib/python3.10/site-packages/pymongo/network.py:192\u001b[0m, in \u001b[0;36mcommand\u001b[0;34m(conn, dbname, spec, is_mongos, read_preference, codec_options, session, client, check, allowable_errors, address, listeners, max_bson_size, read_concern, parse_write_concern_error, collation, compression_ctx, use_op_msg, unacknowledged, user_fields, exhaust_allowed, write_concern)\u001b[0m\n\u001b[1;32m    190\u001b[0m             client\u001b[39m.\u001b[39m_process_response(response_doc, session)\n\u001b[1;32m    191\u001b[0m         \u001b[39mif\u001b[39;00m check:\n\u001b[0;32m--> 192\u001b[0m             helpers\u001b[39m.\u001b[39;49m_check_command_response(\n\u001b[1;32m    193\u001b[0m                 response_doc,\n\u001b[1;32m    194\u001b[0m                 conn\u001b[39m.\u001b[39;49mmax_wire_version,\n\u001b[1;32m    195\u001b[0m                 allowable_errors,\n\u001b[1;32m    196\u001b[0m                 parse_write_concern_error\u001b[39m=\u001b[39;49mparse_write_concern_error,\n\u001b[1;32m    197\u001b[0m             )\n\u001b[1;32m    198\u001b[0m \u001b[39mexcept\u001b[39;00m \u001b[39mException\u001b[39;00m \u001b[39mas\u001b[39;00m exc:\n\u001b[1;32m    199\u001b[0m     \u001b[39mif\u001b[39;00m publish:\n",
      "File \u001b[0;32m/opt/homebrew/Caskroom/miniforge/base/lib/python3.10/site-packages/pymongo/helpers.py:230\u001b[0m, in \u001b[0;36m_check_command_response\u001b[0;34m(response, max_wire_version, allowable_errors, parse_write_concern_error)\u001b[0m\n\u001b[1;32m    227\u001b[0m \u001b[39melif\u001b[39;00m code \u001b[39m==\u001b[39m \u001b[39m43\u001b[39m:\n\u001b[1;32m    228\u001b[0m     \u001b[39mraise\u001b[39;00m CursorNotFound(errmsg, code, response, max_wire_version)\n\u001b[0;32m--> 230\u001b[0m \u001b[39mraise\u001b[39;00m OperationFailure(errmsg, code, response, max_wire_version)\n",
      "\u001b[0;31mOperationFailure\u001b[0m: \"text.query\" cannot be empty, full error: {'ok': 0.0, 'errmsg': '\"text.query\" cannot be empty', 'code': 8, 'codeName': 'UnknownError', '$clusterTime': {'clusterTime': Timestamp(1699030878, 9), 'signature': {'hash': b'\\xb1\\xca\\xf7}\\x03\\xb0\\xc0\\x95\\xa6\\x85\\xca\\xc1p\\xf4\\xc9\\x86\\xce\\xb6\\x857', 'keyId': 7237105488163241990}}, 'operationTime': Timestamp(1699030878, 9)}"
     ]
    }
   ],
   "source": [
    "result = client[\"movielens1m\"]['movie'].aggregate([\n",
    "\n",
    "    {\n",
    "\n",
    "        '$search': {\n",
    "\n",
    "            'index': 'default',\n",
    "\n",
    "            'text': {\n",
    "\n",
    "                'query': '',\n",
    "\n",
    "                'path': 'title'\n",
    "\n",
    "            }\n",
    "\n",
    "        }\n",
    "\n",
    "    },\n",
    "\n",
    "    {\n",
    "\n",
    "        '$limit': 30\n",
    "\n",
    "    },\n",
    "\n",
    "    {\n",
    "\n",
    "        '$project': {\n",
    "\n",
    "            '_id': 0,\n",
    "        }\n",
    "\n",
    "    }\n",
    "\n",
    "])"
   ]
  },
  {
   "cell_type": "code",
   "execution_count": 25,
   "metadata": {},
   "outputs": [],
   "source": [
    "results = list(result)"
   ]
  },
  {
   "cell_type": "code",
   "execution_count": 26,
   "metadata": {},
   "outputs": [
    {
     "data": {
      "text/plain": [
       "[{'movie_id': 3300,\n",
       "  'title': 'Pitch Black',\n",
       "  'genres': ['Action', 'Sci-Fi'],\n",
       "  'rating': 3.3,\n",
       "  'release_year': 2000,\n",
       "  'image_url': 'http://d2gewc5xha837s.cloudfront.net/ml-1m-cover-images/3300/000001.jpg'},\n",
       " {'movie_id': 2962,\n",
       "  'title': 'Fever Pitch',\n",
       "  'genres': ['Comedy', 'Romance'],\n",
       "  'rating': 3.4,\n",
       "  'release_year': 1997,\n",
       "  'image_url': 'http://d2gewc5xha837s.cloudfront.net/ml-1m-cover-images/2962/000001.jpg'},\n",
       " {'movie_id': 88,\n",
       "  'title': 'Black Sheep',\n",
       "  'genres': ['Comedy'],\n",
       "  'rating': 2.9,\n",
       "  'release_year': 1996,\n",
       "  'image_url': 'http://d2gewc5xha837s.cloudfront.net/ml-1m-cover-images/88/000001.jpg'},\n",
       " {'movie_id': 421,\n",
       "  'title': 'Black Beauty',\n",
       "  'genres': ['Adventure', \"Children's\"],\n",
       "  'rating': 3.4,\n",
       "  'release_year': 1994,\n",
       "  'image_url': 'http://d2gewc5xha837s.cloudfront.net/ml-1m-cover-images/421/000001.jpg'},\n",
       " {'movie_id': 1869,\n",
       "  'title': 'Black Dog',\n",
       "  'genres': ['Action', 'Thriller'],\n",
       "  'rating': 2.3,\n",
       "  'release_year': 1998,\n",
       "  'image_url': 'http://d2gewc5xha837s.cloudfront.net/ml-1m-cover-images/1869/000001.jpg'},\n",
       " {'movie_id': 1580,\n",
       "  'title': 'Men in Black',\n",
       "  'genres': ['Action', 'Adventure', 'Comedy', 'Sci-Fi'],\n",
       "  'rating': 3.7,\n",
       "  'release_year': 1997,\n",
       "  'image_url': 'http://d2gewc5xha837s.cloudfront.net/ml-1m-cover-images/1580/000001.jpg'},\n",
       " {'movie_id': 2033,\n",
       "  'title': 'Black Cauldron, The',\n",
       "  'genres': ['Animation', \"Children's\"],\n",
       "  'rating': 3.2,\n",
       "  'release_year': 1985,\n",
       "  'image_url': 'http://d2gewc5xha837s.cloudfront.net/ml-1m-cover-images/2033/000001.jpg'},\n",
       " {'movie_id': 2034,\n",
       "  'title': 'Black Hole, The',\n",
       "  'genres': ['Sci-Fi'],\n",
       "  'rating': 2.8,\n",
       "  'release_year': 1979,\n",
       "  'image_url': 'http://d2gewc5xha837s.cloudfront.net/ml-1m-cover-images/2034/000001.jpg'},\n",
       " {'movie_id': 2340,\n",
       "  'title': 'Meet Joe Black',\n",
       "  'genres': ['Romance'],\n",
       "  'rating': 3.3,\n",
       "  'release_year': 1998,\n",
       "  'image_url': 'http://d2gewc5xha837s.cloudfront.net/ml-1m-cover-images/2340/000001.jpg'},\n",
       " {'movie_id': 3509,\n",
       "  'title': 'Black and White',\n",
       "  'genres': ['Drama'],\n",
       "  'rating': 2.8,\n",
       "  'release_year': 1999,\n",
       "  'image_url': 'http://d2gewc5xha837s.cloudfront.net/ml-1m-cover-images/3509/000001.jpg'},\n",
       " {'movie_id': 2625,\n",
       "  'title': 'Black Mask (Hak hap)',\n",
       "  'genres': ['Action'],\n",
       "  'rating': 3.1,\n",
       "  'release_year': 1996,\n",
       "  'image_url': 'http://d2gewc5xha837s.cloudfront.net/ml-1m-cover-images/2625/000001.jpg'},\n",
       " {'movie_id': 449,\n",
       "  'title': 'Fear of a Black Hat',\n",
       "  'genres': ['Comedy'],\n",
       "  'rating': 3.7,\n",
       "  'release_year': 1993,\n",
       "  'image_url': 'http://d2gewc5xha837s.cloudfront.net/ml-1m-cover-images/449/000001.jpg'},\n",
       " {'movie_id': 3883,\n",
       "  'title': 'Catfish in Black Bean Sauce',\n",
       "  'genres': ['Comedy', 'Drama'],\n",
       "  'rating': 2.7,\n",
       "  'release_year': 2000,\n",
       "  'image_url': 'http://d2gewc5xha837s.cloudfront.net/ml-1m-cover-images/3883/000001.jpg'},\n",
       " {'movie_id': 3205,\n",
       "  'title': 'Black Sunday (La Maschera Del Demonio)',\n",
       "  'genres': ['Horror'],\n",
       "  'rating': 2.2,\n",
       "  'release_year': 1960,\n",
       "  'image_url': 'http://d2gewc5xha837s.cloudfront.net/ml-1m-cover-images/3205/000001.jpg'},\n",
       " {'movie_id': 3930,\n",
       "  'title': 'Creature From the Black Lagoon, The',\n",
       "  'genres': ['Horror'],\n",
       "  'rating': 3.3,\n",
       "  'release_year': 1954,\n",
       "  'image_url': 'http://d2gewc5xha837s.cloudfront.net/ml-1m-cover-images/3930/000001.jpg'},\n",
       " {'movie_id': 3832,\n",
       "  'title': 'Black Sabbath (Tre Volti Della Paura, I)',\n",
       "  'genres': ['Horror'],\n",
       "  'rating': 3.3,\n",
       "  'release_year': 1963,\n",
       "  'image_url': 'http://d2gewc5xha837s.cloudfront.net/ml-1m-cover-images/3832/000001.jpg'},\n",
       " {'movie_id': 2843,\n",
       "  'title': 'Black Cat, White Cat (Crna macka, beli macor)',\n",
       "  'genres': ['Comedy', 'Romance'],\n",
       "  'rating': 3.9,\n",
       "  'release_year': 1998,\n",
       "  'image_url': 'http://d2gewc5xha837s.cloudfront.net/ml-1m-cover-images/2843/000001.jpg'},\n",
       " {'movie_id': 3303,\n",
       "  'title': 'Black Tar Heroin: The Dark End of the Street',\n",
       "  'genres': ['Documentary'],\n",
       "  'rating': 3.5,\n",
       "  'release_year': 1999,\n",
       "  'image_url': 'http://d2gewc5xha837s.cloudfront.net/ml-1m-cover-images/3303/000001.jpg'}]"
      ]
     },
     "execution_count": 26,
     "metadata": {},
     "output_type": "execute_result"
    }
   ],
   "source": [
    "results"
   ]
  },
  {
   "cell_type": "code",
   "execution_count": 21,
   "metadata": {},
   "outputs": [
    {
     "name": "stdout",
     "output_type": "stream",
     "text": [
      "{'movie_id': 3300, 'title': 'Pitch Black', 'genres': ['Action', 'Sci-Fi'], 'rating': 3.3, 'release_year': 2000, 'image_url': 'http://d2gewc5xha837s.cloudfront.net/ml-1m-cover-images/3300/000001.jpg'}\n",
      "{'movie_id': 2962, 'title': 'Fever Pitch', 'genres': ['Comedy', 'Romance'], 'rating': 3.4, 'release_year': 1997, 'image_url': 'http://d2gewc5xha837s.cloudfront.net/ml-1m-cover-images/2962/000001.jpg'}\n",
      "{'movie_id': 88, 'title': 'Black Sheep', 'genres': ['Comedy'], 'rating': 2.9, 'release_year': 1996, 'image_url': 'http://d2gewc5xha837s.cloudfront.net/ml-1m-cover-images/88/000001.jpg'}\n",
      "{'movie_id': 421, 'title': 'Black Beauty', 'genres': ['Adventure', \"Children's\"], 'rating': 3.4, 'release_year': 1994, 'image_url': 'http://d2gewc5xha837s.cloudfront.net/ml-1m-cover-images/421/000001.jpg'}\n",
      "{'movie_id': 1869, 'title': 'Black Dog', 'genres': ['Action', 'Thriller'], 'rating': 2.3, 'release_year': 1998, 'image_url': 'http://d2gewc5xha837s.cloudfront.net/ml-1m-cover-images/1869/000001.jpg'}\n",
      "{'movie_id': 1580, 'title': 'Men in Black', 'genres': ['Action', 'Adventure', 'Comedy', 'Sci-Fi'], 'rating': 3.7, 'release_year': 1997, 'image_url': 'http://d2gewc5xha837s.cloudfront.net/ml-1m-cover-images/1580/000001.jpg'}\n",
      "{'movie_id': 2033, 'title': 'Black Cauldron, The', 'genres': ['Animation', \"Children's\"], 'rating': 3.2, 'release_year': 1985, 'image_url': 'http://d2gewc5xha837s.cloudfront.net/ml-1m-cover-images/2033/000001.jpg'}\n",
      "{'movie_id': 2034, 'title': 'Black Hole, The', 'genres': ['Sci-Fi'], 'rating': 2.8, 'release_year': 1979, 'image_url': 'http://d2gewc5xha837s.cloudfront.net/ml-1m-cover-images/2034/000001.jpg'}\n",
      "{'movie_id': 2340, 'title': 'Meet Joe Black', 'genres': ['Romance'], 'rating': 3.3, 'release_year': 1998, 'image_url': 'http://d2gewc5xha837s.cloudfront.net/ml-1m-cover-images/2340/000001.jpg'}\n",
      "{'movie_id': 3509, 'title': 'Black and White', 'genres': ['Drama'], 'rating': 2.8, 'release_year': 1999, 'image_url': 'http://d2gewc5xha837s.cloudfront.net/ml-1m-cover-images/3509/000001.jpg'}\n",
      "{'movie_id': 2625, 'title': 'Black Mask (Hak hap)', 'genres': ['Action'], 'rating': 3.1, 'release_year': 1996, 'image_url': 'http://d2gewc5xha837s.cloudfront.net/ml-1m-cover-images/2625/000001.jpg'}\n",
      "{'movie_id': 449, 'title': 'Fear of a Black Hat', 'genres': ['Comedy'], 'rating': 3.7, 'release_year': 1993, 'image_url': 'http://d2gewc5xha837s.cloudfront.net/ml-1m-cover-images/449/000001.jpg'}\n",
      "{'movie_id': 3883, 'title': 'Catfish in Black Bean Sauce', 'genres': ['Comedy', 'Drama'], 'rating': 2.7, 'release_year': 2000, 'image_url': 'http://d2gewc5xha837s.cloudfront.net/ml-1m-cover-images/3883/000001.jpg'}\n",
      "{'movie_id': 3205, 'title': 'Black Sunday (La Maschera Del Demonio)', 'genres': ['Horror'], 'rating': 2.2, 'release_year': 1960, 'image_url': 'http://d2gewc5xha837s.cloudfront.net/ml-1m-cover-images/3205/000001.jpg'}\n",
      "{'movie_id': 3930, 'title': 'Creature From the Black Lagoon, The', 'genres': ['Horror'], 'rating': 3.3, 'release_year': 1954, 'image_url': 'http://d2gewc5xha837s.cloudfront.net/ml-1m-cover-images/3930/000001.jpg'}\n",
      "{'movie_id': 3832, 'title': 'Black Sabbath (Tre Volti Della Paura, I)', 'genres': ['Horror'], 'rating': 3.3, 'release_year': 1963, 'image_url': 'http://d2gewc5xha837s.cloudfront.net/ml-1m-cover-images/3832/000001.jpg'}\n",
      "{'movie_id': 2843, 'title': 'Black Cat, White Cat (Crna macka, beli macor)', 'genres': ['Comedy', 'Romance'], 'rating': 3.9, 'release_year': 1998, 'image_url': 'http://d2gewc5xha837s.cloudfront.net/ml-1m-cover-images/2843/000001.jpg'}\n",
      "{'movie_id': 3303, 'title': 'Black Tar Heroin: The Dark End of the Street', 'genres': ['Documentary'], 'rating': 3.5, 'release_year': 1999, 'image_url': 'http://d2gewc5xha837s.cloudfront.net/ml-1m-cover-images/3303/000001.jpg'}\n"
     ]
    }
   ],
   "source": [
    "for i in result:\n",
    "\n",
    "    print(i)"
   ]
  },
  {
   "cell_type": "code",
   "execution_count": null,
   "metadata": {},
   "outputs": [],
   "source": []
  }
 ],
 "metadata": {
  "kernelspec": {
   "display_name": "base",
   "language": "python",
   "name": "python3"
  },
  "language_info": {
   "codemirror_mode": {
    "name": "ipython",
    "version": 3
   },
   "file_extension": ".py",
   "mimetype": "text/x-python",
   "name": "python",
   "nbconvert_exporter": "python",
   "pygments_lexer": "ipython3",
   "version": "3.10.8"
  },
  "orig_nbformat": 4
 },
 "nbformat": 4,
 "nbformat_minor": 2
}
