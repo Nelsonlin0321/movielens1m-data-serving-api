{
 "cells": [
  {
   "cell_type": "code",
   "execution_count": 38,
   "metadata": {},
   "outputs": [],
   "source": [
    "import re\n",
    "import os\n",
    "import boto3\n",
    "import pandas as pd\n",
    "from tqdm import tqdm\n",
    "from decimal import Decimal\n",
    "from zipfile import ZipFile\n",
    "from urllib.request import urlretrieve"
   ]
  },
  {
   "cell_type": "code",
   "execution_count": 39,
   "metadata": {},
   "outputs": [],
   "source": [
    "urlretrieve(\n",
    "    \"http://files.grouplens.org/datasets/movielens/ml-1m.zip\", \"movielens.zip\")\n",
    "ZipFile(\"movielens.zip\", \"r\").extractall()"
   ]
  },
  {
   "cell_type": "code",
   "execution_count": 40,
   "metadata": {},
   "outputs": [],
   "source": [
    "movies = pd.read_csv(\n",
    "    \"ml-1m/movies.dat\",\n",
    "    sep=\"::\",\n",
    "    names=[\"movie_id\", \"title\", \"genres\"],\n",
    "    engine=\"python\",\n",
    "    encoding=\"ISO-8859-1\",\n",
    ")"
   ]
  },
  {
   "cell_type": "code",
   "execution_count": 41,
   "metadata": {},
   "outputs": [],
   "source": [
    "ratings = pd.read_csv(\n",
    "    \"ml-1m/ratings.dat\",\n",
    "    sep=\"::\",\n",
    "    names=[\"user_id\", \"movie_id\", \"rating\", \"unix_timestamp\"],\n",
    "    engine=\"python\",\n",
    ")"
   ]
  },
  {
   "cell_type": "code",
   "execution_count": 42,
   "metadata": {},
   "outputs": [],
   "source": [
    "ratings = ratings.groupby(['movie_id'])[\n",
    "    'rating'].mean().reset_index(name=\"rating\")"
   ]
  },
  {
   "cell_type": "code",
   "execution_count": 43,
   "metadata": {},
   "outputs": [],
   "source": [
    "def round_to_half(x):\n",
    "    lower = int(x)\n",
    "    middle = lower + 0.5\n",
    "    upper = lower+1\n",
    "\n",
    "    if x >= middle:\n",
    "        if abs(x-upper) > abs(x-middle):\n",
    "            return middle\n",
    "        else:\n",
    "            return upper\n",
    "\n",
    "    if x < middle:\n",
    "        if abs(x-lower) > abs(x-middle):\n",
    "            return middle\n",
    "        else:\n",
    "            return lower"
   ]
  },
  {
   "cell_type": "code",
   "execution_count": 44,
   "metadata": {},
   "outputs": [],
   "source": [
    "ratings['rating'] = ratings['rating'].apply(lambda x: round_to_half(x))"
   ]
  },
  {
   "cell_type": "code",
   "execution_count": 45,
   "metadata": {},
   "outputs": [],
   "source": [
    "movies = movies.merge(ratings)"
   ]
  },
  {
   "cell_type": "code",
   "execution_count": 46,
   "metadata": {},
   "outputs": [],
   "source": [
    "def extract_year(movie_title):\n",
    "    # Regular expression pattern to match the year in parentheses\n",
    "    pattern = r'\\((\\d{4})\\)'\n",
    "    match = re.search(pattern, movie_title)\n",
    "    if match:\n",
    "        return match.group(1)\n",
    "    else:\n",
    "        return None"
   ]
  },
  {
   "cell_type": "code",
   "execution_count": 47,
   "metadata": {},
   "outputs": [],
   "source": [
    "def remove_year(movie_title):\n",
    "    # Regular expression pattern to match the year in parentheses\n",
    "    pattern = r'\\((\\d{4})\\)'\n",
    "    movie_title = re.sub(pattern, \"\", movie_title)\n",
    "    return movie_title"
   ]
  },
  {
   "cell_type": "code",
   "execution_count": 48,
   "metadata": {},
   "outputs": [],
   "source": [
    "movies['release_year'] = movies['title'].apply(\n",
    "    lambda x: extract_year(x)).astype(\"int\")"
   ]
  },
  {
   "cell_type": "code",
   "execution_count": 49,
   "metadata": {},
   "outputs": [],
   "source": [
    "\n",
    "movies['title'] = movies['title'].apply(lambda x: remove_year(x).strip())"
   ]
  },
  {
   "cell_type": "code",
   "execution_count": 50,
   "metadata": {},
   "outputs": [],
   "source": [
    "movies['genres'] = movies['genres'].apply(lambda x: x.split(\"|\"))"
   ]
  },
  {
   "cell_type": "code",
   "execution_count": 51,
   "metadata": {},
   "outputs": [
    {
     "data": {
      "text/html": [
       "<div>\n",
       "<style scoped>\n",
       "    .dataframe tbody tr th:only-of-type {\n",
       "        vertical-align: middle;\n",
       "    }\n",
       "\n",
       "    .dataframe tbody tr th {\n",
       "        vertical-align: top;\n",
       "    }\n",
       "\n",
       "    .dataframe thead th {\n",
       "        text-align: right;\n",
       "    }\n",
       "</style>\n",
       "<table border=\"1\" class=\"dataframe\">\n",
       "  <thead>\n",
       "    <tr style=\"text-align: right;\">\n",
       "      <th></th>\n",
       "      <th>movie_id</th>\n",
       "      <th>title</th>\n",
       "      <th>genres</th>\n",
       "      <th>rating</th>\n",
       "      <th>release_year</th>\n",
       "    </tr>\n",
       "  </thead>\n",
       "  <tbody>\n",
       "    <tr>\n",
       "      <th>0</th>\n",
       "      <td>1</td>\n",
       "      <td>Toy Story</td>\n",
       "      <td>[Animation, Children's, Comedy]</td>\n",
       "      <td>4.0</td>\n",
       "      <td>1995</td>\n",
       "    </tr>\n",
       "    <tr>\n",
       "      <th>1</th>\n",
       "      <td>2</td>\n",
       "      <td>Jumanji</td>\n",
       "      <td>[Adventure, Children's, Fantasy]</td>\n",
       "      <td>3.0</td>\n",
       "      <td>1995</td>\n",
       "    </tr>\n",
       "    <tr>\n",
       "      <th>2</th>\n",
       "      <td>3</td>\n",
       "      <td>Grumpier Old Men</td>\n",
       "      <td>[Comedy, Romance]</td>\n",
       "      <td>3.0</td>\n",
       "      <td>1995</td>\n",
       "    </tr>\n",
       "    <tr>\n",
       "      <th>3</th>\n",
       "      <td>4</td>\n",
       "      <td>Waiting to Exhale</td>\n",
       "      <td>[Comedy, Drama]</td>\n",
       "      <td>2.5</td>\n",
       "      <td>1995</td>\n",
       "    </tr>\n",
       "    <tr>\n",
       "      <th>4</th>\n",
       "      <td>5</td>\n",
       "      <td>Father of the Bride Part II</td>\n",
       "      <td>[Comedy]</td>\n",
       "      <td>3.0</td>\n",
       "      <td>1995</td>\n",
       "    </tr>\n",
       "  </tbody>\n",
       "</table>\n",
       "</div>"
      ],
      "text/plain": [
       "   movie_id                        title                            genres  \\\n",
       "0         1                    Toy Story   [Animation, Children's, Comedy]   \n",
       "1         2                      Jumanji  [Adventure, Children's, Fantasy]   \n",
       "2         3             Grumpier Old Men                 [Comedy, Romance]   \n",
       "3         4            Waiting to Exhale                   [Comedy, Drama]   \n",
       "4         5  Father of the Bride Part II                          [Comedy]   \n",
       "\n",
       "   rating  release_year  \n",
       "0     4.0          1995  \n",
       "1     3.0          1995  \n",
       "2     3.0          1995  \n",
       "3     2.5          1995  \n",
       "4     3.0          1995  "
      ]
     },
     "execution_count": 51,
     "metadata": {},
     "output_type": "execute_result"
    }
   ],
   "source": [
    "movies.head()"
   ]
  },
  {
   "cell_type": "code",
   "execution_count": 52,
   "metadata": {},
   "outputs": [],
   "source": [
    "def list_s3_files(bucket_name, prefix=''):\n",
    "    s3 = boto3.client('s3')\n",
    "    files = []\n",
    "    continuation_token = None\n",
    "\n",
    "    while True:\n",
    "        if continuation_token:\n",
    "            response = s3.list_objects_v2(\n",
    "                Bucket=bucket_name, Prefix=prefix, ContinuationToken=continuation_token)\n",
    "        else:\n",
    "            response = s3.list_objects_v2(Bucket=bucket_name, Prefix=prefix)\n",
    "\n",
    "        for obj in response['Contents']:\n",
    "            files.append(obj['Key'])\n",
    "\n",
    "        if 'NextContinuationToken' in response:\n",
    "            continuation_token = response['NextContinuationToken']\n",
    "        else:\n",
    "            break\n",
    "\n",
    "    return files"
   ]
  },
  {
   "cell_type": "code",
   "execution_count": 53,
   "metadata": {},
   "outputs": [],
   "source": [
    "file_paths = list_s3_files(\"cloudfront-aws-bucket\",\n",
    "                           prefix='ml-1m-cover-images')"
   ]
  },
  {
   "cell_type": "code",
   "execution_count": 54,
   "metadata": {},
   "outputs": [],
   "source": [
    "df_images = pd.DataFrame()"
   ]
  },
  {
   "cell_type": "code",
   "execution_count": 55,
   "metadata": {},
   "outputs": [],
   "source": [
    "df_images['image_path'] = file_paths"
   ]
  },
  {
   "cell_type": "code",
   "execution_count": 56,
   "metadata": {},
   "outputs": [],
   "source": [
    "df_images = df_images.iloc[1:].copy()"
   ]
  },
  {
   "cell_type": "code",
   "execution_count": 57,
   "metadata": {},
   "outputs": [],
   "source": [
    "df_images['movie_id'] = df_images['image_path'].apply(\n",
    "    lambda x: os.path.basename(os.path.dirname(x))).astype('int')"
   ]
  },
  {
   "cell_type": "code",
   "execution_count": 58,
   "metadata": {},
   "outputs": [],
   "source": [
    "df_images['image_url'] = df_images['image_path'].apply(\n",
    "    lambda x: os.path.join(\"http://d2gewc5xha837s.cloudfront.net\", x))"
   ]
  },
  {
   "cell_type": "code",
   "execution_count": 59,
   "metadata": {},
   "outputs": [],
   "source": [
    "df_images = df_images.drop(\"image_path\", axis=1)"
   ]
  },
  {
   "cell_type": "code",
   "execution_count": 60,
   "metadata": {},
   "outputs": [],
   "source": [
    "movies = movies.merge(df_images, on=['movie_id'])"
   ]
  },
  {
   "cell_type": "code",
   "execution_count": 61,
   "metadata": {},
   "outputs": [
    {
     "data": {
      "text/html": [
       "<div>\n",
       "<style scoped>\n",
       "    .dataframe tbody tr th:only-of-type {\n",
       "        vertical-align: middle;\n",
       "    }\n",
       "\n",
       "    .dataframe tbody tr th {\n",
       "        vertical-align: top;\n",
       "    }\n",
       "\n",
       "    .dataframe thead th {\n",
       "        text-align: right;\n",
       "    }\n",
       "</style>\n",
       "<table border=\"1\" class=\"dataframe\">\n",
       "  <thead>\n",
       "    <tr style=\"text-align: right;\">\n",
       "      <th></th>\n",
       "      <th>movie_id</th>\n",
       "      <th>title</th>\n",
       "      <th>genres</th>\n",
       "      <th>rating</th>\n",
       "      <th>release_year</th>\n",
       "      <th>image_url</th>\n",
       "    </tr>\n",
       "  </thead>\n",
       "  <tbody>\n",
       "    <tr>\n",
       "      <th>0</th>\n",
       "      <td>1</td>\n",
       "      <td>Toy Story</td>\n",
       "      <td>[Animation, Children's, Comedy]</td>\n",
       "      <td>4.0</td>\n",
       "      <td>1995</td>\n",
       "      <td>http://d2gewc5xha837s.cloudfront.net/ml-1m-cov...</td>\n",
       "    </tr>\n",
       "    <tr>\n",
       "      <th>1</th>\n",
       "      <td>2</td>\n",
       "      <td>Jumanji</td>\n",
       "      <td>[Adventure, Children's, Fantasy]</td>\n",
       "      <td>3.0</td>\n",
       "      <td>1995</td>\n",
       "      <td>http://d2gewc5xha837s.cloudfront.net/ml-1m-cov...</td>\n",
       "    </tr>\n",
       "    <tr>\n",
       "      <th>2</th>\n",
       "      <td>3</td>\n",
       "      <td>Grumpier Old Men</td>\n",
       "      <td>[Comedy, Romance]</td>\n",
       "      <td>3.0</td>\n",
       "      <td>1995</td>\n",
       "      <td>http://d2gewc5xha837s.cloudfront.net/ml-1m-cov...</td>\n",
       "    </tr>\n",
       "    <tr>\n",
       "      <th>3</th>\n",
       "      <td>4</td>\n",
       "      <td>Waiting to Exhale</td>\n",
       "      <td>[Comedy, Drama]</td>\n",
       "      <td>2.5</td>\n",
       "      <td>1995</td>\n",
       "      <td>http://d2gewc5xha837s.cloudfront.net/ml-1m-cov...</td>\n",
       "    </tr>\n",
       "    <tr>\n",
       "      <th>4</th>\n",
       "      <td>5</td>\n",
       "      <td>Father of the Bride Part II</td>\n",
       "      <td>[Comedy]</td>\n",
       "      <td>3.0</td>\n",
       "      <td>1995</td>\n",
       "      <td>http://d2gewc5xha837s.cloudfront.net/ml-1m-cov...</td>\n",
       "    </tr>\n",
       "  </tbody>\n",
       "</table>\n",
       "</div>"
      ],
      "text/plain": [
       "   movie_id                        title                            genres  \\\n",
       "0         1                    Toy Story   [Animation, Children's, Comedy]   \n",
       "1         2                      Jumanji  [Adventure, Children's, Fantasy]   \n",
       "2         3             Grumpier Old Men                 [Comedy, Romance]   \n",
       "3         4            Waiting to Exhale                   [Comedy, Drama]   \n",
       "4         5  Father of the Bride Part II                          [Comedy]   \n",
       "\n",
       "   rating  release_year                                          image_url  \n",
       "0     4.0          1995  http://d2gewc5xha837s.cloudfront.net/ml-1m-cov...  \n",
       "1     3.0          1995  http://d2gewc5xha837s.cloudfront.net/ml-1m-cov...  \n",
       "2     3.0          1995  http://d2gewc5xha837s.cloudfront.net/ml-1m-cov...  \n",
       "3     2.5          1995  http://d2gewc5xha837s.cloudfront.net/ml-1m-cov...  \n",
       "4     3.0          1995  http://d2gewc5xha837s.cloudfront.net/ml-1m-cov...  "
      ]
     },
     "execution_count": 61,
     "metadata": {},
     "output_type": "execute_result"
    }
   ],
   "source": [
    "movies.head()"
   ]
  },
  {
   "cell_type": "code",
   "execution_count": 62,
   "metadata": {},
   "outputs": [],
   "source": [
    "movies_genres = movies.explode(['genres'])"
   ]
  },
  {
   "cell_type": "code",
   "execution_count": 63,
   "metadata": {},
   "outputs": [],
   "source": [
    "movies_genres = movies_genres.rename(columns={'genres': \"genre\"})"
   ]
  },
  {
   "cell_type": "code",
   "execution_count": 64,
   "metadata": {},
   "outputs": [
    {
     "data": {
      "text/html": [
       "<div>\n",
       "<style scoped>\n",
       "    .dataframe tbody tr th:only-of-type {\n",
       "        vertical-align: middle;\n",
       "    }\n",
       "\n",
       "    .dataframe tbody tr th {\n",
       "        vertical-align: top;\n",
       "    }\n",
       "\n",
       "    .dataframe thead th {\n",
       "        text-align: right;\n",
       "    }\n",
       "</style>\n",
       "<table border=\"1\" class=\"dataframe\">\n",
       "  <thead>\n",
       "    <tr style=\"text-align: right;\">\n",
       "      <th></th>\n",
       "      <th>movie_id</th>\n",
       "      <th>title</th>\n",
       "      <th>genre</th>\n",
       "      <th>rating</th>\n",
       "      <th>release_year</th>\n",
       "      <th>image_url</th>\n",
       "    </tr>\n",
       "  </thead>\n",
       "  <tbody>\n",
       "    <tr>\n",
       "      <th>0</th>\n",
       "      <td>1</td>\n",
       "      <td>Toy Story</td>\n",
       "      <td>Animation</td>\n",
       "      <td>4.0</td>\n",
       "      <td>1995</td>\n",
       "      <td>http://d2gewc5xha837s.cloudfront.net/ml-1m-cov...</td>\n",
       "    </tr>\n",
       "    <tr>\n",
       "      <th>0</th>\n",
       "      <td>1</td>\n",
       "      <td>Toy Story</td>\n",
       "      <td>Children's</td>\n",
       "      <td>4.0</td>\n",
       "      <td>1995</td>\n",
       "      <td>http://d2gewc5xha837s.cloudfront.net/ml-1m-cov...</td>\n",
       "    </tr>\n",
       "    <tr>\n",
       "      <th>0</th>\n",
       "      <td>1</td>\n",
       "      <td>Toy Story</td>\n",
       "      <td>Comedy</td>\n",
       "      <td>4.0</td>\n",
       "      <td>1995</td>\n",
       "      <td>http://d2gewc5xha837s.cloudfront.net/ml-1m-cov...</td>\n",
       "    </tr>\n",
       "    <tr>\n",
       "      <th>1</th>\n",
       "      <td>2</td>\n",
       "      <td>Jumanji</td>\n",
       "      <td>Adventure</td>\n",
       "      <td>3.0</td>\n",
       "      <td>1995</td>\n",
       "      <td>http://d2gewc5xha837s.cloudfront.net/ml-1m-cov...</td>\n",
       "    </tr>\n",
       "    <tr>\n",
       "      <th>1</th>\n",
       "      <td>2</td>\n",
       "      <td>Jumanji</td>\n",
       "      <td>Children's</td>\n",
       "      <td>3.0</td>\n",
       "      <td>1995</td>\n",
       "      <td>http://d2gewc5xha837s.cloudfront.net/ml-1m-cov...</td>\n",
       "    </tr>\n",
       "  </tbody>\n",
       "</table>\n",
       "</div>"
      ],
      "text/plain": [
       "   movie_id      title       genre  rating  release_year  \\\n",
       "0         1  Toy Story   Animation     4.0          1995   \n",
       "0         1  Toy Story  Children's     4.0          1995   \n",
       "0         1  Toy Story      Comedy     4.0          1995   \n",
       "1         2    Jumanji   Adventure     3.0          1995   \n",
       "1         2    Jumanji  Children's     3.0          1995   \n",
       "\n",
       "                                           image_url  \n",
       "0  http://d2gewc5xha837s.cloudfront.net/ml-1m-cov...  \n",
       "0  http://d2gewc5xha837s.cloudfront.net/ml-1m-cov...  \n",
       "0  http://d2gewc5xha837s.cloudfront.net/ml-1m-cov...  \n",
       "1  http://d2gewc5xha837s.cloudfront.net/ml-1m-cov...  \n",
       "1  http://d2gewc5xha837s.cloudfront.net/ml-1m-cov...  "
      ]
     },
     "execution_count": 64,
     "metadata": {},
     "output_type": "execute_result"
    }
   ],
   "source": [
    "movies_genres.head()"
   ]
  },
  {
   "cell_type": "code",
   "execution_count": 65,
   "metadata": {},
   "outputs": [],
   "source": [
    "movies_genres['rank'] = movies_genres.groupby('movie_id')['genre'].rank()"
   ]
  },
  {
   "cell_type": "code",
   "execution_count": 66,
   "metadata": {},
   "outputs": [],
   "source": [
    "movies_genres['rank'] = movies_genres['rank'].astype(\"int\")"
   ]
  },
  {
   "cell_type": "code",
   "execution_count": 67,
   "metadata": {},
   "outputs": [
    {
     "data": {
      "text/html": [
       "<div>\n",
       "<style scoped>\n",
       "    .dataframe tbody tr th:only-of-type {\n",
       "        vertical-align: middle;\n",
       "    }\n",
       "\n",
       "    .dataframe tbody tr th {\n",
       "        vertical-align: top;\n",
       "    }\n",
       "\n",
       "    .dataframe thead th {\n",
       "        text-align: right;\n",
       "    }\n",
       "</style>\n",
       "<table border=\"1\" class=\"dataframe\">\n",
       "  <thead>\n",
       "    <tr style=\"text-align: right;\">\n",
       "      <th></th>\n",
       "      <th>movie_id</th>\n",
       "      <th>title</th>\n",
       "      <th>genre</th>\n",
       "      <th>rating</th>\n",
       "      <th>release_year</th>\n",
       "      <th>image_url</th>\n",
       "      <th>rank</th>\n",
       "    </tr>\n",
       "  </thead>\n",
       "  <tbody>\n",
       "    <tr>\n",
       "      <th>0</th>\n",
       "      <td>1</td>\n",
       "      <td>Toy Story</td>\n",
       "      <td>Animation</td>\n",
       "      <td>4.0</td>\n",
       "      <td>1995</td>\n",
       "      <td>http://d2gewc5xha837s.cloudfront.net/ml-1m-cov...</td>\n",
       "      <td>1</td>\n",
       "    </tr>\n",
       "    <tr>\n",
       "      <th>0</th>\n",
       "      <td>1</td>\n",
       "      <td>Toy Story</td>\n",
       "      <td>Children's</td>\n",
       "      <td>4.0</td>\n",
       "      <td>1995</td>\n",
       "      <td>http://d2gewc5xha837s.cloudfront.net/ml-1m-cov...</td>\n",
       "      <td>2</td>\n",
       "    </tr>\n",
       "    <tr>\n",
       "      <th>0</th>\n",
       "      <td>1</td>\n",
       "      <td>Toy Story</td>\n",
       "      <td>Comedy</td>\n",
       "      <td>4.0</td>\n",
       "      <td>1995</td>\n",
       "      <td>http://d2gewc5xha837s.cloudfront.net/ml-1m-cov...</td>\n",
       "      <td>3</td>\n",
       "    </tr>\n",
       "    <tr>\n",
       "      <th>1</th>\n",
       "      <td>2</td>\n",
       "      <td>Jumanji</td>\n",
       "      <td>Adventure</td>\n",
       "      <td>3.0</td>\n",
       "      <td>1995</td>\n",
       "      <td>http://d2gewc5xha837s.cloudfront.net/ml-1m-cov...</td>\n",
       "      <td>1</td>\n",
       "    </tr>\n",
       "    <tr>\n",
       "      <th>1</th>\n",
       "      <td>2</td>\n",
       "      <td>Jumanji</td>\n",
       "      <td>Children's</td>\n",
       "      <td>3.0</td>\n",
       "      <td>1995</td>\n",
       "      <td>http://d2gewc5xha837s.cloudfront.net/ml-1m-cov...</td>\n",
       "      <td>2</td>\n",
       "    </tr>\n",
       "  </tbody>\n",
       "</table>\n",
       "</div>"
      ],
      "text/plain": [
       "   movie_id      title       genre  rating  release_year  \\\n",
       "0         1  Toy Story   Animation     4.0          1995   \n",
       "0         1  Toy Story  Children's     4.0          1995   \n",
       "0         1  Toy Story      Comedy     4.0          1995   \n",
       "1         2    Jumanji   Adventure     3.0          1995   \n",
       "1         2    Jumanji  Children's     3.0          1995   \n",
       "\n",
       "                                           image_url  rank  \n",
       "0  http://d2gewc5xha837s.cloudfront.net/ml-1m-cov...     1  \n",
       "0  http://d2gewc5xha837s.cloudfront.net/ml-1m-cov...     2  \n",
       "0  http://d2gewc5xha837s.cloudfront.net/ml-1m-cov...     3  \n",
       "1  http://d2gewc5xha837s.cloudfront.net/ml-1m-cov...     1  \n",
       "1  http://d2gewc5xha837s.cloudfront.net/ml-1m-cov...     2  "
      ]
     },
     "execution_count": 67,
     "metadata": {},
     "output_type": "execute_result"
    }
   ],
   "source": [
    "movies_genres.head()"
   ]
  },
  {
   "cell_type": "code",
   "execution_count": 68,
   "metadata": {},
   "outputs": [],
   "source": [
    "movies_genres = movies_genres.merge(\n",
    "    movies[['movie_id', 'genres']], on=['movie_id'])"
   ]
  },
  {
   "cell_type": "code",
   "execution_count": 69,
   "metadata": {},
   "outputs": [
    {
     "data": {
      "text/html": [
       "<div>\n",
       "<style scoped>\n",
       "    .dataframe tbody tr th:only-of-type {\n",
       "        vertical-align: middle;\n",
       "    }\n",
       "\n",
       "    .dataframe tbody tr th {\n",
       "        vertical-align: top;\n",
       "    }\n",
       "\n",
       "    .dataframe thead th {\n",
       "        text-align: right;\n",
       "    }\n",
       "</style>\n",
       "<table border=\"1\" class=\"dataframe\">\n",
       "  <thead>\n",
       "    <tr style=\"text-align: right;\">\n",
       "      <th></th>\n",
       "      <th>movie_id</th>\n",
       "      <th>title</th>\n",
       "      <th>genre</th>\n",
       "      <th>rating</th>\n",
       "      <th>release_year</th>\n",
       "      <th>image_url</th>\n",
       "      <th>rank</th>\n",
       "      <th>genres</th>\n",
       "    </tr>\n",
       "  </thead>\n",
       "  <tbody>\n",
       "    <tr>\n",
       "      <th>0</th>\n",
       "      <td>1</td>\n",
       "      <td>Toy Story</td>\n",
       "      <td>Animation</td>\n",
       "      <td>4.0</td>\n",
       "      <td>1995</td>\n",
       "      <td>http://d2gewc5xha837s.cloudfront.net/ml-1m-cov...</td>\n",
       "      <td>1</td>\n",
       "      <td>[Animation, Children's, Comedy]</td>\n",
       "    </tr>\n",
       "    <tr>\n",
       "      <th>1</th>\n",
       "      <td>1</td>\n",
       "      <td>Toy Story</td>\n",
       "      <td>Children's</td>\n",
       "      <td>4.0</td>\n",
       "      <td>1995</td>\n",
       "      <td>http://d2gewc5xha837s.cloudfront.net/ml-1m-cov...</td>\n",
       "      <td>2</td>\n",
       "      <td>[Animation, Children's, Comedy]</td>\n",
       "    </tr>\n",
       "    <tr>\n",
       "      <th>2</th>\n",
       "      <td>1</td>\n",
       "      <td>Toy Story</td>\n",
       "      <td>Comedy</td>\n",
       "      <td>4.0</td>\n",
       "      <td>1995</td>\n",
       "      <td>http://d2gewc5xha837s.cloudfront.net/ml-1m-cov...</td>\n",
       "      <td>3</td>\n",
       "      <td>[Animation, Children's, Comedy]</td>\n",
       "    </tr>\n",
       "    <tr>\n",
       "      <th>3</th>\n",
       "      <td>2</td>\n",
       "      <td>Jumanji</td>\n",
       "      <td>Adventure</td>\n",
       "      <td>3.0</td>\n",
       "      <td>1995</td>\n",
       "      <td>http://d2gewc5xha837s.cloudfront.net/ml-1m-cov...</td>\n",
       "      <td>1</td>\n",
       "      <td>[Adventure, Children's, Fantasy]</td>\n",
       "    </tr>\n",
       "    <tr>\n",
       "      <th>4</th>\n",
       "      <td>2</td>\n",
       "      <td>Jumanji</td>\n",
       "      <td>Children's</td>\n",
       "      <td>3.0</td>\n",
       "      <td>1995</td>\n",
       "      <td>http://d2gewc5xha837s.cloudfront.net/ml-1m-cov...</td>\n",
       "      <td>2</td>\n",
       "      <td>[Adventure, Children's, Fantasy]</td>\n",
       "    </tr>\n",
       "  </tbody>\n",
       "</table>\n",
       "</div>"
      ],
      "text/plain": [
       "   movie_id      title       genre  rating  release_year  \\\n",
       "0         1  Toy Story   Animation     4.0          1995   \n",
       "1         1  Toy Story  Children's     4.0          1995   \n",
       "2         1  Toy Story      Comedy     4.0          1995   \n",
       "3         2    Jumanji   Adventure     3.0          1995   \n",
       "4         2    Jumanji  Children's     3.0          1995   \n",
       "\n",
       "                                           image_url  rank  \\\n",
       "0  http://d2gewc5xha837s.cloudfront.net/ml-1m-cov...     1   \n",
       "1  http://d2gewc5xha837s.cloudfront.net/ml-1m-cov...     2   \n",
       "2  http://d2gewc5xha837s.cloudfront.net/ml-1m-cov...     3   \n",
       "3  http://d2gewc5xha837s.cloudfront.net/ml-1m-cov...     1   \n",
       "4  http://d2gewc5xha837s.cloudfront.net/ml-1m-cov...     2   \n",
       "\n",
       "                             genres  \n",
       "0   [Animation, Children's, Comedy]  \n",
       "1   [Animation, Children's, Comedy]  \n",
       "2   [Animation, Children's, Comedy]  \n",
       "3  [Adventure, Children's, Fantasy]  \n",
       "4  [Adventure, Children's, Fantasy]  "
      ]
     },
     "execution_count": 69,
     "metadata": {},
     "output_type": "execute_result"
    }
   ],
   "source": [
    "movies_genres.head()"
   ]
  },
  {
   "cell_type": "code",
   "execution_count": 72,
   "metadata": {},
   "outputs": [],
   "source": [
    "genres = list(set(movies_genres['genre']))"
   ]
  },
  {
   "cell_type": "code",
   "execution_count": null,
   "metadata": {},
   "outputs": [],
   "source": [
    "genres = "
   ]
  },
  {
   "cell_type": "code",
   "execution_count": 33,
   "metadata": {},
   "outputs": [],
   "source": [
    "dynamodb = boto3.resource(\"dynamodb\")"
   ]
  },
  {
   "cell_type": "code",
   "execution_count": 34,
   "metadata": {},
   "outputs": [],
   "source": [
    "table_name = \"movielens_movie\""
   ]
  },
  {
   "cell_type": "code",
   "execution_count": 35,
   "metadata": {},
   "outputs": [],
   "source": [
    "table = dynamodb.Table(table_name)"
   ]
  },
  {
   "cell_type": "code",
   "execution_count": 36,
   "metadata": {},
   "outputs": [],
   "source": [
    "items = []\n",
    "for i in range(len(movies_genres)):\n",
    "    item = movies_genres.iloc[i].to_dict()\n",
    "    item[\"rating\"] = Decimal(str(item[\"rating\"]))\n",
    "    items.append(item)"
   ]
  },
  {
   "cell_type": "code",
   "execution_count": 37,
   "metadata": {},
   "outputs": [
    {
     "name": "stderr",
     "output_type": "stream",
     "text": [
      "  0%|          | 0/6171 [00:00<?, ?it/s]"
     ]
    },
    {
     "name": "stderr",
     "output_type": "stream",
     "text": [
      "100%|██████████| 6171/6171 [05:13<00:00, 19.70it/s]\n"
     ]
    }
   ],
   "source": [
    "with table.batch_writer() as writer:\n",
    "    for item in tqdm(items):\n",
    "        writer.put_item(Item=item)"
   ]
  },
  {
   "cell_type": "code",
   "execution_count": null,
   "metadata": {},
   "outputs": [],
   "source": [
    "\n",
    "\n",
    "\n"
   ]
  }
 ],
 "metadata": {
  "kernelspec": {
   "display_name": "base",
   "language": "python",
   "name": "python3"
  },
  "language_info": {
   "codemirror_mode": {
    "name": "ipython",
    "version": 3
   },
   "file_extension": ".py",
   "mimetype": "text/x-python",
   "name": "python",
   "nbconvert_exporter": "python",
   "pygments_lexer": "ipython3",
   "version": "3.10.8"
  },
  "orig_nbformat": 4
 },
 "nbformat": 4,
 "nbformat_minor": 2
}
